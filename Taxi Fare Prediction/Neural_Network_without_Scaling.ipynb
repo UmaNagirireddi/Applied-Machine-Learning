{
  "cells": [
    {
      "cell_type": "code",
      "execution_count": null,
      "metadata": {
        "id": "QFmtZNYDrFiq"
      },
      "outputs": [],
      "source": []
    },
    {
      "cell_type": "code",
      "execution_count": 8,
      "metadata": {
        "id": "xW3OahbMrZHo"
      },
      "outputs": [],
      "source": [
        "import os\n",
        "import torch\n",
        "import torch.nn as nn\n",
        "import torch.optim as optim\n",
        "from torch.utils.data import DataLoader, TensorDataset\n",
        "from sklearn.model_selection import train_test_split\n",
        "from sklearn.preprocessing import StandardScaler\n",
        "import pandas as pd\n",
        "import numpy as np\n",
        "import matplotlib.pyplot as plt\n"
      ]
    },
    {
      "cell_type": "code",
      "execution_count": 9,
      "metadata": {
        "colab": {
          "base_uri": "https://localhost:8080/",
          "height": 226
        },
        "id": "MOCknbrHrp5D",
        "outputId": "ce5312d3-bfe5-46e4-ac94-5086f79aa929"
      },
      "outputs": [
        {
          "output_type": "execute_result",
          "data": {
            "text/plain": [
              "   fare_amount  pickup_longitude  pickup_latitude  dropoff_longitude  \\\n",
              "0          7.5        -73.999817        40.738354         -73.999512   \n",
              "1          7.7        -73.994355        40.728225         -73.994710   \n",
              "2         12.9        -74.005043        40.740770         -73.962565   \n",
              "3          5.3        -73.976124        40.790844         -73.965316   \n",
              "4         16.0        -73.925023        40.744085         -73.973082   \n",
              "\n",
              "   dropoff_latitude  passenger_count  day  hour  weekday  month  year  \\\n",
              "0         40.723217                1    7    19        3      5  2015   \n",
              "1         40.750325                1   17    20        4      7  2009   \n",
              "2         40.772647                1   24    21        0      8  2009   \n",
              "3         40.803349                3   26     8        4      6  2009   \n",
              "4         40.761247                5   28    17        3      8  2014   \n",
              "\n",
              "   distance  \n",
              "0  1.683323  \n",
              "1  2.457590  \n",
              "2  5.036377  \n",
              "3  1.661683  \n",
              "4  4.475450  "
            ],
            "text/html": [
              "\n",
              "  <div id=\"df-3bf1f286-0f23-4fc8-a941-a5c63e45ecaa\" class=\"colab-df-container\">\n",
              "    <div>\n",
              "<style scoped>\n",
              "    .dataframe tbody tr th:only-of-type {\n",
              "        vertical-align: middle;\n",
              "    }\n",
              "\n",
              "    .dataframe tbody tr th {\n",
              "        vertical-align: top;\n",
              "    }\n",
              "\n",
              "    .dataframe thead th {\n",
              "        text-align: right;\n",
              "    }\n",
              "</style>\n",
              "<table border=\"1\" class=\"dataframe\">\n",
              "  <thead>\n",
              "    <tr style=\"text-align: right;\">\n",
              "      <th></th>\n",
              "      <th>fare_amount</th>\n",
              "      <th>pickup_longitude</th>\n",
              "      <th>pickup_latitude</th>\n",
              "      <th>dropoff_longitude</th>\n",
              "      <th>dropoff_latitude</th>\n",
              "      <th>passenger_count</th>\n",
              "      <th>day</th>\n",
              "      <th>hour</th>\n",
              "      <th>weekday</th>\n",
              "      <th>month</th>\n",
              "      <th>year</th>\n",
              "      <th>distance</th>\n",
              "    </tr>\n",
              "  </thead>\n",
              "  <tbody>\n",
              "    <tr>\n",
              "      <th>0</th>\n",
              "      <td>7.5</td>\n",
              "      <td>-73.999817</td>\n",
              "      <td>40.738354</td>\n",
              "      <td>-73.999512</td>\n",
              "      <td>40.723217</td>\n",
              "      <td>1</td>\n",
              "      <td>7</td>\n",
              "      <td>19</td>\n",
              "      <td>3</td>\n",
              "      <td>5</td>\n",
              "      <td>2015</td>\n",
              "      <td>1.683323</td>\n",
              "    </tr>\n",
              "    <tr>\n",
              "      <th>1</th>\n",
              "      <td>7.7</td>\n",
              "      <td>-73.994355</td>\n",
              "      <td>40.728225</td>\n",
              "      <td>-73.994710</td>\n",
              "      <td>40.750325</td>\n",
              "      <td>1</td>\n",
              "      <td>17</td>\n",
              "      <td>20</td>\n",
              "      <td>4</td>\n",
              "      <td>7</td>\n",
              "      <td>2009</td>\n",
              "      <td>2.457590</td>\n",
              "    </tr>\n",
              "    <tr>\n",
              "      <th>2</th>\n",
              "      <td>12.9</td>\n",
              "      <td>-74.005043</td>\n",
              "      <td>40.740770</td>\n",
              "      <td>-73.962565</td>\n",
              "      <td>40.772647</td>\n",
              "      <td>1</td>\n",
              "      <td>24</td>\n",
              "      <td>21</td>\n",
              "      <td>0</td>\n",
              "      <td>8</td>\n",
              "      <td>2009</td>\n",
              "      <td>5.036377</td>\n",
              "    </tr>\n",
              "    <tr>\n",
              "      <th>3</th>\n",
              "      <td>5.3</td>\n",
              "      <td>-73.976124</td>\n",
              "      <td>40.790844</td>\n",
              "      <td>-73.965316</td>\n",
              "      <td>40.803349</td>\n",
              "      <td>3</td>\n",
              "      <td>26</td>\n",
              "      <td>8</td>\n",
              "      <td>4</td>\n",
              "      <td>6</td>\n",
              "      <td>2009</td>\n",
              "      <td>1.661683</td>\n",
              "    </tr>\n",
              "    <tr>\n",
              "      <th>4</th>\n",
              "      <td>16.0</td>\n",
              "      <td>-73.925023</td>\n",
              "      <td>40.744085</td>\n",
              "      <td>-73.973082</td>\n",
              "      <td>40.761247</td>\n",
              "      <td>5</td>\n",
              "      <td>28</td>\n",
              "      <td>17</td>\n",
              "      <td>3</td>\n",
              "      <td>8</td>\n",
              "      <td>2014</td>\n",
              "      <td>4.475450</td>\n",
              "    </tr>\n",
              "  </tbody>\n",
              "</table>\n",
              "</div>\n",
              "    <div class=\"colab-df-buttons\">\n",
              "\n",
              "  <div class=\"colab-df-container\">\n",
              "    <button class=\"colab-df-convert\" onclick=\"convertToInteractive('df-3bf1f286-0f23-4fc8-a941-a5c63e45ecaa')\"\n",
              "            title=\"Convert this dataframe to an interactive table.\"\n",
              "            style=\"display:none;\">\n",
              "\n",
              "  <svg xmlns=\"http://www.w3.org/2000/svg\" height=\"24px\" viewBox=\"0 -960 960 960\">\n",
              "    <path d=\"M120-120v-720h720v720H120Zm60-500h600v-160H180v160Zm220 220h160v-160H400v160Zm0 220h160v-160H400v160ZM180-400h160v-160H180v160Zm440 0h160v-160H620v160ZM180-180h160v-160H180v160Zm440 0h160v-160H620v160Z\"/>\n",
              "  </svg>\n",
              "    </button>\n",
              "\n",
              "  <style>\n",
              "    .colab-df-container {\n",
              "      display:flex;\n",
              "      gap: 12px;\n",
              "    }\n",
              "\n",
              "    .colab-df-convert {\n",
              "      background-color: #E8F0FE;\n",
              "      border: none;\n",
              "      border-radius: 50%;\n",
              "      cursor: pointer;\n",
              "      display: none;\n",
              "      fill: #1967D2;\n",
              "      height: 32px;\n",
              "      padding: 0 0 0 0;\n",
              "      width: 32px;\n",
              "    }\n",
              "\n",
              "    .colab-df-convert:hover {\n",
              "      background-color: #E2EBFA;\n",
              "      box-shadow: 0px 1px 2px rgba(60, 64, 67, 0.3), 0px 1px 3px 1px rgba(60, 64, 67, 0.15);\n",
              "      fill: #174EA6;\n",
              "    }\n",
              "\n",
              "    .colab-df-buttons div {\n",
              "      margin-bottom: 4px;\n",
              "    }\n",
              "\n",
              "    [theme=dark] .colab-df-convert {\n",
              "      background-color: #3B4455;\n",
              "      fill: #D2E3FC;\n",
              "    }\n",
              "\n",
              "    [theme=dark] .colab-df-convert:hover {\n",
              "      background-color: #434B5C;\n",
              "      box-shadow: 0px 1px 3px 1px rgba(0, 0, 0, 0.15);\n",
              "      filter: drop-shadow(0px 1px 2px rgba(0, 0, 0, 0.3));\n",
              "      fill: #FFFFFF;\n",
              "    }\n",
              "  </style>\n",
              "\n",
              "    <script>\n",
              "      const buttonEl =\n",
              "        document.querySelector('#df-3bf1f286-0f23-4fc8-a941-a5c63e45ecaa button.colab-df-convert');\n",
              "      buttonEl.style.display =\n",
              "        google.colab.kernel.accessAllowed ? 'block' : 'none';\n",
              "\n",
              "      async function convertToInteractive(key) {\n",
              "        const element = document.querySelector('#df-3bf1f286-0f23-4fc8-a941-a5c63e45ecaa');\n",
              "        const dataTable =\n",
              "          await google.colab.kernel.invokeFunction('convertToInteractive',\n",
              "                                                    [key], {});\n",
              "        if (!dataTable) return;\n",
              "\n",
              "        const docLinkHtml = 'Like what you see? Visit the ' +\n",
              "          '<a target=\"_blank\" href=https://colab.research.google.com/notebooks/data_table.ipynb>data table notebook</a>'\n",
              "          + ' to learn more about interactive tables.';\n",
              "        element.innerHTML = '';\n",
              "        dataTable['output_type'] = 'display_data';\n",
              "        await google.colab.output.renderOutput(dataTable, element);\n",
              "        const docLink = document.createElement('div');\n",
              "        docLink.innerHTML = docLinkHtml;\n",
              "        element.appendChild(docLink);\n",
              "      }\n",
              "    </script>\n",
              "  </div>\n",
              "\n",
              "\n",
              "<div id=\"df-47a2ee56-791d-456f-aa30-9aa5fe59cd18\">\n",
              "  <button class=\"colab-df-quickchart\" onclick=\"quickchart('df-47a2ee56-791d-456f-aa30-9aa5fe59cd18')\"\n",
              "            title=\"Suggest charts\"\n",
              "            style=\"display:none;\">\n",
              "\n",
              "<svg xmlns=\"http://www.w3.org/2000/svg\" height=\"24px\"viewBox=\"0 0 24 24\"\n",
              "     width=\"24px\">\n",
              "    <g>\n",
              "        <path d=\"M19 3H5c-1.1 0-2 .9-2 2v14c0 1.1.9 2 2 2h14c1.1 0 2-.9 2-2V5c0-1.1-.9-2-2-2zM9 17H7v-7h2v7zm4 0h-2V7h2v10zm4 0h-2v-4h2v4z\"/>\n",
              "    </g>\n",
              "</svg>\n",
              "  </button>\n",
              "\n",
              "<style>\n",
              "  .colab-df-quickchart {\n",
              "      --bg-color: #E8F0FE;\n",
              "      --fill-color: #1967D2;\n",
              "      --hover-bg-color: #E2EBFA;\n",
              "      --hover-fill-color: #174EA6;\n",
              "      --disabled-fill-color: #AAA;\n",
              "      --disabled-bg-color: #DDD;\n",
              "  }\n",
              "\n",
              "  [theme=dark] .colab-df-quickchart {\n",
              "      --bg-color: #3B4455;\n",
              "      --fill-color: #D2E3FC;\n",
              "      --hover-bg-color: #434B5C;\n",
              "      --hover-fill-color: #FFFFFF;\n",
              "      --disabled-bg-color: #3B4455;\n",
              "      --disabled-fill-color: #666;\n",
              "  }\n",
              "\n",
              "  .colab-df-quickchart {\n",
              "    background-color: var(--bg-color);\n",
              "    border: none;\n",
              "    border-radius: 50%;\n",
              "    cursor: pointer;\n",
              "    display: none;\n",
              "    fill: var(--fill-color);\n",
              "    height: 32px;\n",
              "    padding: 0;\n",
              "    width: 32px;\n",
              "  }\n",
              "\n",
              "  .colab-df-quickchart:hover {\n",
              "    background-color: var(--hover-bg-color);\n",
              "    box-shadow: 0 1px 2px rgba(60, 64, 67, 0.3), 0 1px 3px 1px rgba(60, 64, 67, 0.15);\n",
              "    fill: var(--button-hover-fill-color);\n",
              "  }\n",
              "\n",
              "  .colab-df-quickchart-complete:disabled,\n",
              "  .colab-df-quickchart-complete:disabled:hover {\n",
              "    background-color: var(--disabled-bg-color);\n",
              "    fill: var(--disabled-fill-color);\n",
              "    box-shadow: none;\n",
              "  }\n",
              "\n",
              "  .colab-df-spinner {\n",
              "    border: 2px solid var(--fill-color);\n",
              "    border-color: transparent;\n",
              "    border-bottom-color: var(--fill-color);\n",
              "    animation:\n",
              "      spin 1s steps(1) infinite;\n",
              "  }\n",
              "\n",
              "  @keyframes spin {\n",
              "    0% {\n",
              "      border-color: transparent;\n",
              "      border-bottom-color: var(--fill-color);\n",
              "      border-left-color: var(--fill-color);\n",
              "    }\n",
              "    20% {\n",
              "      border-color: transparent;\n",
              "      border-left-color: var(--fill-color);\n",
              "      border-top-color: var(--fill-color);\n",
              "    }\n",
              "    30% {\n",
              "      border-color: transparent;\n",
              "      border-left-color: var(--fill-color);\n",
              "      border-top-color: var(--fill-color);\n",
              "      border-right-color: var(--fill-color);\n",
              "    }\n",
              "    40% {\n",
              "      border-color: transparent;\n",
              "      border-right-color: var(--fill-color);\n",
              "      border-top-color: var(--fill-color);\n",
              "    }\n",
              "    60% {\n",
              "      border-color: transparent;\n",
              "      border-right-color: var(--fill-color);\n",
              "    }\n",
              "    80% {\n",
              "      border-color: transparent;\n",
              "      border-right-color: var(--fill-color);\n",
              "      border-bottom-color: var(--fill-color);\n",
              "    }\n",
              "    90% {\n",
              "      border-color: transparent;\n",
              "      border-bottom-color: var(--fill-color);\n",
              "    }\n",
              "  }\n",
              "</style>\n",
              "\n",
              "  <script>\n",
              "    async function quickchart(key) {\n",
              "      const quickchartButtonEl =\n",
              "        document.querySelector('#' + key + ' button');\n",
              "      quickchartButtonEl.disabled = true;  // To prevent multiple clicks.\n",
              "      quickchartButtonEl.classList.add('colab-df-spinner');\n",
              "      try {\n",
              "        const charts = await google.colab.kernel.invokeFunction(\n",
              "            'suggestCharts', [key], {});\n",
              "      } catch (error) {\n",
              "        console.error('Error during call to suggestCharts:', error);\n",
              "      }\n",
              "      quickchartButtonEl.classList.remove('colab-df-spinner');\n",
              "      quickchartButtonEl.classList.add('colab-df-quickchart-complete');\n",
              "    }\n",
              "    (() => {\n",
              "      let quickchartButtonEl =\n",
              "        document.querySelector('#df-47a2ee56-791d-456f-aa30-9aa5fe59cd18 button');\n",
              "      quickchartButtonEl.style.display =\n",
              "        google.colab.kernel.accessAllowed ? 'block' : 'none';\n",
              "    })();\n",
              "  </script>\n",
              "</div>\n",
              "\n",
              "    </div>\n",
              "  </div>\n"
            ]
          },
          "metadata": {},
          "execution_count": 9
        }
      ],
      "source": [
        "#Use the URL for the raw CSV data\n",
        "url = 'https://raw.githubusercontent.com/Dhanush-adk/machine_learning/main/project/data_preprocessed.csv'\n",
        "df = pd.read_csv(url)\n",
        "\n",
        "# Display the first 5 rows of the DataFrame\n",
        "df.head()"
      ]
    },
    {
      "cell_type": "code",
      "execution_count": 10,
      "metadata": {
        "id": "x8iJOFVFr3bD"
      },
      "outputs": [],
      "source": [
        "import torch\n",
        "import torch.nn as nn\n",
        "import torch.optim as optim\n",
        "from torch.utils.data import DataLoader, TensorDataset"
      ]
    },
    {
      "cell_type": "code",
      "execution_count": 11,
      "metadata": {
        "id": "30xpAbuSsYCv"
      },
      "outputs": [],
      "source": [
        "X = df.drop('fare_amount', axis = 1)\n",
        "y = df[['fare_amount']]"
      ]
    },
    {
      "cell_type": "code",
      "execution_count": 12,
      "metadata": {
        "id": "l5eJSzH2tO3X"
      },
      "outputs": [],
      "source": [
        "X = pd.DataFrame(X, columns=X.columns, index=X.index).values\n",
        "y = pd.DataFrame(y, columns=y.columns, index=y.index).values"
      ]
    },
    {
      "cell_type": "code",
      "execution_count": 13,
      "metadata": {
        "id": "3oidLh5UtS1z"
      },
      "outputs": [],
      "source": [
        "train_X, val_X, train_Y, val_Y = train_test_split(X, y, test_size=0.2, random_state=42)\n",
        "X_train = torch.tensor(train_X)\n",
        "y_train =  torch.tensor(train_Y)\n",
        "X_val =  torch.tensor(val_X)\n",
        "y_val =  torch.tensor(val_Y)"
      ]
    },
    {
      "cell_type": "code",
      "execution_count": 14,
      "metadata": {
        "id": "6q0AeI3atU-5"
      },
      "outputs": [],
      "source": [
        "training_data = TensorDataset(X_train, y_train)\n",
        "train_loader = DataLoader(training_data, batch_size=32, shuffle=True)\n",
        "\n",
        "val_data = TensorDataset(X_val, y_val)\n",
        "val_loader = DataLoader(val_data, batch_size=32)"
      ]
    },
    {
      "cell_type": "code",
      "execution_count": 15,
      "metadata": {
        "id": "FgcpQJoatW-D"
      },
      "outputs": [],
      "source": [
        "def model_train(model, criterion, optimizer, epochs, train_loader, X_val, y_val):\n",
        "    loss_train = []\n",
        "    loss_val = []\n",
        "    for epoch in range(epochs + 1):\n",
        "        # Training\n",
        "        model.train()\n",
        "        for inputs, targets in train_loader:\n",
        "            optimizer.zero_grad()\n",
        "            outputs = model(inputs)\n",
        "            loss = criterion(outputs, targets.view(-1,1))\n",
        "            loss.backward()\n",
        "            optimizer.step()\n",
        "        # Validation\n",
        "        model.eval()\n",
        "        with torch.no_grad():\n",
        "            val_outputs = model(X_val)\n",
        "            val_loss = criterion(val_outputs, y_val)\n",
        "            if epoch % 50 == 0:\n",
        "              print(f'Epoch {epoch}/{epochs}, Training Loss: {loss.item()}, Validation Loss: {val_loss.item()}')\n",
        "            loss_val.append(val_loss)\n",
        "            loss_train.append(loss)\n",
        "    return loss_train, loss_val"
      ]
    },
    {
      "cell_type": "code",
      "source": [],
      "metadata": {
        "id": "KiAzGbb9xT4x"
      },
      "execution_count": 15,
      "outputs": []
    },
    {
      "cell_type": "code",
      "execution_count": 16,
      "metadata": {
        "id": "jcOsUXYVtaQw"
      },
      "outputs": [],
      "source": [
        "model1 = nn.Sequential(\n",
        "    nn.Linear(X_train.shape[1], 32),\n",
        "    nn.Tanh(),\n",
        "    nn.Linear(32, 1)\n",
        ").to(torch.float64)\n",
        "optimizer1 = optim.SGD(model1.parameters(), lr=0.01)\n"
      ]
    },
    {
      "cell_type": "code",
      "execution_count": 17,
      "metadata": {
        "id": "PbCwyDeGte-t",
        "colab": {
          "base_uri": "https://localhost:8080/"
        },
        "outputId": "8769a5e9-9222-41b8-bbc1-74d49f08ce45"
      },
      "outputs": [
        {
          "output_type": "stream",
          "name": "stdout",
          "text": [
            "Epoch 0/1000, Training Loss: 44.49786115560845, Validation Loss: 101.80413328455042\n",
            "Epoch 50/1000, Training Loss: 128.2968451804319, Validation Loss: 102.8948652728135\n",
            "Epoch 100/1000, Training Loss: 34.44496437057938, Validation Loss: 102.42148496578616\n",
            "Epoch 150/1000, Training Loss: 80.85914580823733, Validation Loss: 101.89190802118675\n",
            "Epoch 200/1000, Training Loss: 39.212276451964634, Validation Loss: 102.00652024003323\n",
            "Epoch 250/1000, Training Loss: 29.677079822164302, Validation Loss: 106.42114694906874\n",
            "Epoch 300/1000, Training Loss: 44.695803867150346, Validation Loss: 103.01730888017035\n",
            "Epoch 350/1000, Training Loss: 113.71068867931123, Validation Loss: 102.49652820166145\n",
            "Epoch 400/1000, Training Loss: 132.7319819971035, Validation Loss: 101.81051134825967\n",
            "Epoch 450/1000, Training Loss: 61.16505796990311, Validation Loss: 103.02209597619816\n",
            "Epoch 500/1000, Training Loss: 47.7470335652219, Validation Loss: 104.15707782175218\n",
            "Epoch 550/1000, Training Loss: 27.307473888962143, Validation Loss: 102.9867108248581\n",
            "Epoch 600/1000, Training Loss: 57.373326200916196, Validation Loss: 101.94757506658924\n",
            "Epoch 650/1000, Training Loss: 144.2936000973817, Validation Loss: 104.42996243872565\n",
            "Epoch 700/1000, Training Loss: 34.60759483399964, Validation Loss: 102.41061966834293\n",
            "Epoch 750/1000, Training Loss: 166.72340858794718, Validation Loss: 105.02787765434118\n",
            "Epoch 800/1000, Training Loss: 29.16449430056364, Validation Loss: 101.84264815995044\n",
            "Epoch 850/1000, Training Loss: 67.51611592724478, Validation Loss: 105.12906915812259\n",
            "Epoch 900/1000, Training Loss: 195.66101666433605, Validation Loss: 108.93909720185465\n",
            "Epoch 950/1000, Training Loss: 135.0138856517849, Validation Loss: 104.9284559331511\n",
            "Epoch 1000/1000, Training Loss: 115.18549098381975, Validation Loss: 102.44742971304314\n",
            "Training Time: 4143.469131231308 seconds\n"
          ]
        }
      ],
      "source": [
        "import time\n",
        "\n",
        "start_time = time.time()\n",
        "train_loss, val_loss = model_train(model1, nn.MSELoss(), optimizer1, 1000, train_loader, X_val, y_val)\n",
        "end_time = time.time()\n",
        "training_time = end_time - start_time\n",
        "print(f\"Training Time: {training_time} seconds\")"
      ]
    },
    {
      "cell_type": "code",
      "source": [
        "torch.save(model1, 'model1.pth')"
      ],
      "metadata": {
        "id": "6AwZC3bfzs6i"
      },
      "execution_count": 18,
      "outputs": []
    },
    {
      "cell_type": "code",
      "source": [
        "import pickle\n",
        "\n",
        "# Save list to a file\n",
        "with open('train_loss1.pkl', 'wb') as file:\n",
        "    pickle.dump(train_loss, file)\n",
        "with open('val_loss1.pkl', 'wb') as file:\n",
        "    pickle.dump(val_loss, file)\n"
      ],
      "metadata": {
        "id": "VOE3DnMZy9V0"
      },
      "execution_count": 19,
      "outputs": []
    },
    {
      "cell_type": "code",
      "source": [
        "def downsample_losses(train_loss, val_loss, step=50):\n",
        "    train_loss_batch = [train_loss[i].detach().item() for i in range(0, len(train_loss), step)]\n",
        "    val_loss_batch = [val_loss[i].detach().item() for i in range(0, len(val_loss), step)]\n",
        "    return train_loss_batch, val_loss_batch"
      ],
      "metadata": {
        "id": "i4ifXoG8m8hj"
      },
      "execution_count": 32,
      "outputs": []
    },
    {
      "cell_type": "code",
      "source": [
        "epochs = range(0, 1001, 50)"
      ],
      "metadata": {
        "id": "32HRG7qjnE_P"
      },
      "execution_count": 33,
      "outputs": []
    },
    {
      "cell_type": "code",
      "source": [],
      "metadata": {
        "id": "lIhlsn_OnE73"
      },
      "execution_count": null,
      "outputs": []
    },
    {
      "cell_type": "code",
      "source": [],
      "metadata": {
        "id": "uzXYuFtRnE6S"
      },
      "execution_count": null,
      "outputs": []
    },
    {
      "cell_type": "code",
      "source": [],
      "metadata": {
        "id": "4l3CoZ4SnE13"
      },
      "execution_count": null,
      "outputs": []
    },
    {
      "cell_type": "code",
      "source": [
        "model1 = nn.Sequential(\n",
        "    nn.Linear(X_train.shape[1], 32),\n",
        "    nn.Tanh(),\n",
        "    nn.Linear(32, 64),  # Second hidden layer with 64 neurons\n",
        "    nn.Tanh(),\n",
        "    nn.Linear(64, 16),  # Third hidden layer with 16 neurons\n",
        "    nn.Tanh(),\n",
        "    nn.Linear(16, 1) # Output layer with 1 neuron\n",
        ").to(torch.float64)\n",
        "criterion = nn.MSELoss()\n",
        "optimizer1 = optim.Adam(model1.parameters(), lr=0.01)\n"
      ],
      "metadata": {
        "id": "G50VJ2zXyGEu"
      },
      "execution_count": 20,
      "outputs": []
    },
    {
      "cell_type": "code",
      "source": [],
      "metadata": {
        "id": "neBlrY4A8spG"
      },
      "execution_count": null,
      "outputs": []
    },
    {
      "cell_type": "code",
      "source": [
        "\n",
        "import time\n",
        "\n",
        "start_time = time.time()\n",
        "train_loss2, val_loss2 = model_train(model1, nn.MSELoss(), optimizer1, 1000, train_loader, X_val, y_val)\n",
        "end_time = time.time()\n",
        "training_time = end_time - start_time\n",
        "print(f\"Training Time: {training_time} seconds\")\n"
      ],
      "metadata": {
        "id": "vVC5NyN98sX4",
        "outputId": "dfaeab1d-26a1-4a26-99d6-fa11865bf162",
        "colab": {
          "base_uri": "https://localhost:8080/"
        }
      },
      "execution_count": 21,
      "outputs": [
        {
          "output_type": "stream",
          "name": "stdout",
          "text": [
            "Epoch 0/1000, Training Loss: 39.655987916926485, Validation Loss: 103.44604065734089\n",
            "Epoch 50/1000, Training Loss: 18.73911697887604, Validation Loss: 102.27308558891055\n",
            "Epoch 100/1000, Training Loss: 58.207599358726945, Validation Loss: 103.34297845397789\n",
            "Epoch 150/1000, Training Loss: 82.71323868009665, Validation Loss: 101.87606496118339\n",
            "Epoch 200/1000, Training Loss: 217.40170027059355, Validation Loss: 101.83560207159216\n",
            "Epoch 250/1000, Training Loss: 134.85516570234708, Validation Loss: 102.52385971653418\n",
            "Epoch 300/1000, Training Loss: 61.53694468835796, Validation Loss: 101.98577615958268\n",
            "Epoch 350/1000, Training Loss: 100.683858746429, Validation Loss: 102.55888195406719\n",
            "Epoch 400/1000, Training Loss: 27.319904567633426, Validation Loss: 102.75839866247246\n",
            "Epoch 450/1000, Training Loss: 23.148088610447022, Validation Loss: 101.95257513606043\n",
            "Epoch 500/1000, Training Loss: 28.748735303877258, Validation Loss: 101.90230581844693\n",
            "Epoch 550/1000, Training Loss: 83.68945002981144, Validation Loss: 104.5093386867695\n",
            "Epoch 600/1000, Training Loss: 70.85195111715095, Validation Loss: 101.82778377306137\n",
            "Epoch 650/1000, Training Loss: 176.51674359348166, Validation Loss: 101.81858900839083\n",
            "Epoch 700/1000, Training Loss: 33.667977548583266, Validation Loss: 105.65060026512377\n",
            "Epoch 750/1000, Training Loss: 41.52524297156508, Validation Loss: 102.07782737293473\n",
            "Epoch 800/1000, Training Loss: 53.912086369095675, Validation Loss: 110.55750114710406\n",
            "Epoch 850/1000, Training Loss: 542.3723141609883, Validation Loss: 104.15404150974894\n",
            "Epoch 900/1000, Training Loss: 24.182523755672303, Validation Loss: 102.21593481255896\n",
            "Epoch 950/1000, Training Loss: 280.9929765599313, Validation Loss: 101.89119285609182\n",
            "Epoch 1000/1000, Training Loss: 188.3967070290024, Validation Loss: 103.2334697507673\n",
            "Training Time: 8702.306220054626 seconds\n"
          ]
        }
      ]
    },
    {
      "cell_type": "code",
      "source": [
        "torch.save(model1, 'model2.pth')"
      ],
      "metadata": {
        "id": "NUmsCqpL8xdN"
      },
      "execution_count": 22,
      "outputs": []
    },
    {
      "cell_type": "code",
      "source": [
        "import pickle\n",
        "\n",
        "# Save list to a file\n",
        "with open('train_loss2.pkl', 'wb') as file:\n",
        "    pickle.dump(train_loss2, file)\n",
        "with open('val_loss2.pkl', 'wb') as file:\n",
        "    pickle.dump(val_loss2, file)\n"
      ],
      "metadata": {
        "id": "dE4C5SLv8xZt"
      },
      "execution_count": 23,
      "outputs": []
    },
    {
      "cell_type": "code",
      "source": [
        "train_loss_batch1, val_loss_batch1 = downsample_losses(train_loss, val_loss, step=50)\n",
        "train_loss_batch2, val_loss_batch2 = downsample_losses(train_loss2, val_loss2, step=50)"
      ],
      "metadata": {
        "id": "E3Mlb8af82rm"
      },
      "execution_count": 34,
      "outputs": []
    },
    {
      "cell_type": "code",
      "source": [
        "plt.figure(figsize=(10, 8))\n",
        "\n",
        "plt.subplot(2,2,1)\n",
        "plt.plot(epochs, train_loss_batch1, color='blue', label = 'training Loss')\n",
        "plt.plot(epochs, val_loss_batch1, color='red', label = 'validation Loss')\n",
        "plt.title('Loss with Learning Rate of 0.01 (1 hidden layer)')\n",
        "plt.legend()\n",
        "\n",
        "plt.subplot(2,2,2)\n",
        "plt.plot(epochs, train_loss_batch2, color='blue', label = 'training Loss')\n",
        "plt.plot(epochs, val_loss_batch2, color='red', label = 'validation Loss')\n",
        "plt.title('Loss with Learning Rate of 0.01 (3 Hidden Layers)')\n",
        "plt.legend()\n",
        "\n",
        "plt.show()\n"
      ],
      "metadata": {
        "id": "HXn9IK_U82n_",
        "outputId": "3fbe70f6-fe86-4023-9d7f-93a53fb75186",
        "colab": {
          "base_uri": "https://localhost:8080/",
          "height": 361
        }
      },
      "execution_count": 35,
      "outputs": [
        {
          "output_type": "display_data",
          "data": {
            "text/plain": [
              "<Figure size 1000x800 with 2 Axes>"
            ],
            "image/png": "[encoded data removed]"
          },
          "metadata": {}
        }
      ]
    },
    {
      "cell_type": "code",
      "source": [
        "model1 = nn.Sequential(\n",
        "    nn.Linear(X_train.shape[1], 32),\n",
        "    nn.Tanh(),\n",
        "    nn.Linear(32, 1)\n",
        ").to(torch.float64)\n",
        "optimizer1 = optim.SGD(model1.parameters(), lr=0.01)\n"
      ],
      "metadata": {
        "id": "-yZXOzAX0c31"
      },
      "execution_count": 24,
      "outputs": []
    },
    {
      "cell_type": "code",
      "source": [
        "import time\n",
        "\n",
        "start_time = time.time()\n",
        "train_loss5k, val_loss5k = model_train(model1, nn.MSELoss(), optimizer1, 5000, train_loader, X_val, y_val)\n",
        "end_time = time.time()\n",
        "training_time = end_time - start_time\n",
        "print(f\"Training Time: {training_time} seconds\")"
      ],
      "metadata": {
        "id": "RyTZnSUa7vyZ",
        "outputId": "5f336dbd-f6af-48e2-d0f3-6fe1be90e3f2",
        "colab": {
          "base_uri": "https://localhost:8080/"
        }
      },
      "execution_count": 25,
      "outputs": [
        {
          "output_type": "stream",
          "name": "stdout",
          "text": [
            "Epoch 0/5000, Training Loss: 53.01915799521281, Validation Loss: 101.81875308638561\n",
            "Epoch 50/5000, Training Loss: 22.371055628323194, Validation Loss: 103.30760125569097\n",
            "Epoch 100/5000, Training Loss: 160.83861159509775, Validation Loss: 104.76760391786256\n",
            "Epoch 150/5000, Training Loss: 130.39274191473766, Validation Loss: 111.23808688776107\n",
            "Epoch 200/5000, Training Loss: 186.93325046223873, Validation Loss: 105.70084446880394\n",
            "Epoch 250/5000, Training Loss: 58.23179528048647, Validation Loss: 103.92616361708586\n",
            "Epoch 300/5000, Training Loss: 47.01010981840783, Validation Loss: 102.8957000772039\n",
            "Epoch 350/5000, Training Loss: 35.96521635773577, Validation Loss: 106.05405170635272\n",
            "Epoch 400/5000, Training Loss: 93.62992000568583, Validation Loss: 101.85151436489647\n",
            "Epoch 450/5000, Training Loss: 62.65183099509001, Validation Loss: 102.07784259460996\n",
            "Epoch 500/5000, Training Loss: 100.13580333760568, Validation Loss: 103.24037894234715\n",
            "Epoch 550/5000, Training Loss: 18.654443296625313, Validation Loss: 104.39589464585707\n",
            "Epoch 600/5000, Training Loss: 101.51586642583499, Validation Loss: 102.09141899929057\n",
            "Epoch 650/5000, Training Loss: 23.3375884155921, Validation Loss: 102.1582077707713\n",
            "Epoch 700/5000, Training Loss: 256.631927123743, Validation Loss: 108.53717240861572\n",
            "Epoch 750/5000, Training Loss: 53.447274174595826, Validation Loss: 101.85393829018886\n",
            "Epoch 800/5000, Training Loss: 33.826940415107444, Validation Loss: 103.44051479113918\n",
            "Epoch 850/5000, Training Loss: 23.405229864421976, Validation Loss: 105.1978628027665\n",
            "Epoch 900/5000, Training Loss: 171.3797602128834, Validation Loss: 103.6130603701866\n",
            "Epoch 950/5000, Training Loss: 66.51769789296789, Validation Loss: 101.8507342234784\n",
            "Epoch 1000/5000, Training Loss: 148.80183680040386, Validation Loss: 102.06669625943961\n",
            "Epoch 1050/5000, Training Loss: 54.49324094330326, Validation Loss: 101.81385500430754\n",
            "Epoch 1100/5000, Training Loss: 19.30916817105324, Validation Loss: 104.42660690198272\n",
            "Epoch 1150/5000, Training Loss: 117.13498239289707, Validation Loss: 102.24927656798121\n",
            "Epoch 1200/5000, Training Loss: 219.85752083254505, Validation Loss: 117.58354281092879\n",
            "Epoch 1250/5000, Training Loss: 32.24082749307588, Validation Loss: 102.37656300778677\n",
            "Epoch 1300/5000, Training Loss: 96.47882755701332, Validation Loss: 101.86195396722637\n",
            "Epoch 1350/5000, Training Loss: 137.9776210513447, Validation Loss: 102.643773454053\n",
            "Epoch 1400/5000, Training Loss: 82.9919788781777, Validation Loss: 102.20690257661218\n",
            "Epoch 1450/5000, Training Loss: 117.57626401929974, Validation Loss: 102.57372446495108\n",
            "Epoch 1500/5000, Training Loss: 59.68906934429018, Validation Loss: 101.83237579998905\n",
            "Epoch 1550/5000, Training Loss: 59.846011456803495, Validation Loss: 103.7532700327264\n",
            "Epoch 1600/5000, Training Loss: 114.1025065661784, Validation Loss: 102.01604742933485\n",
            "Epoch 1650/5000, Training Loss: 68.35289473646414, Validation Loss: 105.17793045421378\n",
            "Epoch 1700/5000, Training Loss: 92.52145705100813, Validation Loss: 102.57560349877278\n",
            "Epoch 1750/5000, Training Loss: 162.46698608688143, Validation Loss: 102.58925670757185\n",
            "Epoch 1800/5000, Training Loss: 15.570505117796866, Validation Loss: 104.0914760155183\n",
            "Epoch 1850/5000, Training Loss: 19.37585983041638, Validation Loss: 108.90932208696785\n",
            "Epoch 1900/5000, Training Loss: 58.00171331531455, Validation Loss: 101.89811180022363\n",
            "Epoch 1950/5000, Training Loss: 124.22759986998915, Validation Loss: 104.23978902307363\n",
            "Epoch 2000/5000, Training Loss: 28.493787570973403, Validation Loss: 101.80180758085177\n",
            "Epoch 2050/5000, Training Loss: 99.28419991548378, Validation Loss: 101.81291791002707\n",
            "Epoch 2100/5000, Training Loss: 130.89049203367244, Validation Loss: 101.86208298413915\n",
            "Epoch 2150/5000, Training Loss: 388.114262612202, Validation Loss: 115.94132647751633\n",
            "Epoch 2200/5000, Training Loss: 91.66925615057171, Validation Loss: 101.80783224764913\n",
            "Epoch 2250/5000, Training Loss: 60.30777395422722, Validation Loss: 102.55159308345358\n",
            "Epoch 2300/5000, Training Loss: 327.7478837406225, Validation Loss: 106.4818258655077\n",
            "Epoch 2350/5000, Training Loss: 69.82029707052685, Validation Loss: 104.75118571585807\n",
            "Epoch 2400/5000, Training Loss: 37.888753797860225, Validation Loss: 102.02086926696371\n",
            "Epoch 2450/5000, Training Loss: 175.28104309525688, Validation Loss: 102.01979441592982\n",
            "Epoch 2500/5000, Training Loss: 25.87392254886642, Validation Loss: 104.18526103102742\n",
            "Epoch 2550/5000, Training Loss: 20.880359672312597, Validation Loss: 102.156264439529\n",
            "Epoch 2600/5000, Training Loss: 50.21912394370639, Validation Loss: 102.96658796233817\n",
            "Epoch 2650/5000, Training Loss: 216.40214390039165, Validation Loss: 104.52026314361585\n",
            "Epoch 2700/5000, Training Loss: 57.79745808534331, Validation Loss: 102.50032692038116\n",
            "Epoch 2750/5000, Training Loss: 125.88669823470978, Validation Loss: 103.30091536770026\n",
            "Epoch 2800/5000, Training Loss: 41.070443275270314, Validation Loss: 103.15306587675764\n",
            "Epoch 2850/5000, Training Loss: 39.94040443232465, Validation Loss: 104.42625362541904\n",
            "Epoch 2900/5000, Training Loss: 54.46984309153955, Validation Loss: 101.85944109378441\n",
            "Epoch 2950/5000, Training Loss: 106.47575344640815, Validation Loss: 102.2054405872372\n",
            "Epoch 3000/5000, Training Loss: 133.59658916986135, Validation Loss: 101.80524878785691\n",
            "Epoch 3050/5000, Training Loss: 27.063742610271415, Validation Loss: 103.0803452459538\n",
            "Epoch 3100/5000, Training Loss: 227.7249748604842, Validation Loss: 102.0593746741398\n",
            "Epoch 3150/5000, Training Loss: 161.8600078785014, Validation Loss: 105.28561647736757\n",
            "Epoch 3200/5000, Training Loss: 28.723225887351653, Validation Loss: 103.18248636235403\n",
            "Epoch 3250/5000, Training Loss: 75.27274665623666, Validation Loss: 106.43028346274059\n",
            "Epoch 3300/5000, Training Loss: 33.07004065501459, Validation Loss: 102.41120028003033\n",
            "Epoch 3350/5000, Training Loss: 118.66910464917667, Validation Loss: 101.80313289779406\n",
            "Epoch 3400/5000, Training Loss: 226.1622097232292, Validation Loss: 109.84465101168281\n",
            "Epoch 3450/5000, Training Loss: 194.34797066644535, Validation Loss: 106.27265673472162\n",
            "Epoch 3500/5000, Training Loss: 116.39838846719526, Validation Loss: 102.75832683105736\n",
            "Epoch 3550/5000, Training Loss: 69.82922432725415, Validation Loss: 101.80180546737871\n",
            "Epoch 3600/5000, Training Loss: 124.81914026649677, Validation Loss: 103.142611057062\n",
            "Epoch 3650/5000, Training Loss: 20.287451287203275, Validation Loss: 105.33203693843454\n",
            "Epoch 3700/5000, Training Loss: 93.62603394749584, Validation Loss: 102.2214380770717\n",
            "Epoch 3750/5000, Training Loss: 97.42632555353002, Validation Loss: 101.8415321746128\n",
            "Epoch 3800/5000, Training Loss: 36.962469025642136, Validation Loss: 104.52928260208455\n",
            "Epoch 3850/5000, Training Loss: 25.70432003095369, Validation Loss: 106.96889250726817\n",
            "Epoch 3900/5000, Training Loss: 14.172443305803922, Validation Loss: 103.37911704274894\n",
            "Epoch 3950/5000, Training Loss: 135.08766306053852, Validation Loss: 110.30636192436995\n",
            "Epoch 4000/5000, Training Loss: 25.062717396543164, Validation Loss: 105.82371980822772\n",
            "Epoch 4050/5000, Training Loss: 75.3607726030276, Validation Loss: 102.13722711474897\n",
            "Epoch 4100/5000, Training Loss: 26.914681367322828, Validation Loss: 104.35915422627738\n",
            "Epoch 4150/5000, Training Loss: 93.21500858735905, Validation Loss: 101.85127570328608\n",
            "Epoch 4200/5000, Training Loss: 81.43012728588099, Validation Loss: 101.93275626127198\n",
            "Epoch 4250/5000, Training Loss: 116.76339243764124, Validation Loss: 103.67398409135696\n",
            "Epoch 4300/5000, Training Loss: 29.62553503393947, Validation Loss: 101.99827626640636\n",
            "Epoch 4350/5000, Training Loss: 43.30289017480905, Validation Loss: 101.96665555420246\n",
            "Epoch 4400/5000, Training Loss: 31.45311555770287, Validation Loss: 102.53279058754217\n",
            "Epoch 4450/5000, Training Loss: 153.30301698355282, Validation Loss: 104.37439136128934\n",
            "Epoch 4500/5000, Training Loss: 25.78641265742587, Validation Loss: 103.77784077703075\n",
            "Epoch 4550/5000, Training Loss: 76.35386654219398, Validation Loss: 102.39891229074948\n",
            "Epoch 4600/5000, Training Loss: 42.97831341005427, Validation Loss: 102.18990208115227\n",
            "Epoch 4650/5000, Training Loss: 132.24405043891804, Validation Loss: 102.9806009059494\n",
            "Epoch 4700/5000, Training Loss: 50.665820747990246, Validation Loss: 101.90160197179766\n",
            "Epoch 4750/5000, Training Loss: 64.82859256354907, Validation Loss: 102.52203368031897\n",
            "Epoch 4800/5000, Training Loss: 94.37924040108648, Validation Loss: 105.63590607479357\n",
            "Epoch 4850/5000, Training Loss: 65.01920766490746, Validation Loss: 102.66725236831248\n",
            "Epoch 4900/5000, Training Loss: 129.2547073339078, Validation Loss: 101.85539614548394\n",
            "Epoch 4950/5000, Training Loss: 176.98977915106633, Validation Loss: 108.65887436999662\n",
            "Epoch 5000/5000, Training Loss: 73.03267892039047, Validation Loss: 102.17877100322654\n",
            "Training Time: 21400.653676748276 seconds\n"
          ]
        }
      ]
    },
    {
      "cell_type": "code",
      "source": [
        "torch.save(model1, 'model15k.pth')"
      ],
      "metadata": {
        "id": "yIPW6m9l7vu0"
      },
      "execution_count": 26,
      "outputs": []
    },
    {
      "cell_type": "code",
      "source": [
        "import pickle\n",
        "\n",
        "# Save list to a file\n",
        "with open('train_loss15k.pkl', 'wb') as file:\n",
        "    pickle.dump(train_loss5k, file)\n",
        "with open('val_loss15k.pkl', 'wb') as file:\n",
        "    pickle.dump(val_loss5k, file)\n"
      ],
      "metadata": {
        "id": "8DkQIIq87vsZ"
      },
      "execution_count": 27,
      "outputs": []
    },
    {
      "cell_type": "code",
      "source": [],
      "metadata": {
        "id": "f-93d0447vqL"
      },
      "execution_count": 27,
      "outputs": []
    }
  ],
  "metadata": {
    "colab": {
      "provenance": [],
      "machine_shape": "hm",
      "gpuType": "V100"
    },
    "kernelspec": {
      "display_name": "Python 3",
      "name": "python3"
    },
    "language_info": {
      "name": "python"
    },
    "accelerator": "GPU"
  },
  "nbformat": 4,
  "nbformat_minor": 0
}