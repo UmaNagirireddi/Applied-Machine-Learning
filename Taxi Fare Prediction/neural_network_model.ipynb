{
 "cells": [
  {
   "cell_type": "code",
   "execution_count": 10,
   "metadata": {},
   "outputs": [],
   "source": [
    "import os\n",
    "import torch\n",
    "import torch.nn as nn\n",
    "import torch.optim as optim\n",
    "from torch.utils.data import DataLoader, TensorDataset\n",
    "from sklearn.model_selection import train_test_split\n",
    "from sklearn.preprocessing import StandardScaler\n",
    "import pandas as pd\n",
    "import numpy as np\n",
    "import matplotlib.pyplot as plt\n"
   ]
  },
  {
   "cell_type": "code",
   "execution_count": 11,
   "metadata": {},
   "outputs": [
    {
     "data": {
      "text/html": [
       "<div>\n",
       "<style scoped>\n",
       "    .dataframe tbody tr th:only-of-type {\n",
       "        vertical-align: middle;\n",
       "    }\n",
       "\n",
       "    .dataframe tbody tr th {\n",
       "        vertical-align: top;\n",
       "    }\n",
       "\n",
       "    .dataframe thead th {\n",
       "        text-align: right;\n",
       "    }\n",
       "</style>\n",
       "<table border=\"1\" class=\"dataframe\">\n",
       "  <thead>\n",
       "    <tr style=\"text-align: right;\">\n",
       "      <th></th>\n",
       "      <th>fare_amount</th>\n",
       "      <th>pickup_longitude</th>\n",
       "      <th>pickup_latitude</th>\n",
       "      <th>dropoff_longitude</th>\n",
       "      <th>dropoff_latitude</th>\n",
       "      <th>passenger_count</th>\n",
       "      <th>day</th>\n",
       "      <th>hour</th>\n",
       "      <th>weekday</th>\n",
       "      <th>month</th>\n",
       "      <th>year</th>\n",
       "      <th>distance</th>\n",
       "    </tr>\n",
       "  </thead>\n",
       "  <tbody>\n",
       "    <tr>\n",
       "      <th>0</th>\n",
       "      <td>7.5</td>\n",
       "      <td>-73.999817</td>\n",
       "      <td>40.738354</td>\n",
       "      <td>-73.999512</td>\n",
       "      <td>40.723217</td>\n",
       "      <td>1</td>\n",
       "      <td>7</td>\n",
       "      <td>19</td>\n",
       "      <td>3</td>\n",
       "      <td>5</td>\n",
       "      <td>2015</td>\n",
       "      <td>1.683323</td>\n",
       "    </tr>\n",
       "    <tr>\n",
       "      <th>1</th>\n",
       "      <td>7.7</td>\n",
       "      <td>-73.994355</td>\n",
       "      <td>40.728225</td>\n",
       "      <td>-73.994710</td>\n",
       "      <td>40.750325</td>\n",
       "      <td>1</td>\n",
       "      <td>17</td>\n",
       "      <td>20</td>\n",
       "      <td>4</td>\n",
       "      <td>7</td>\n",
       "      <td>2009</td>\n",
       "      <td>2.457590</td>\n",
       "    </tr>\n",
       "    <tr>\n",
       "      <th>2</th>\n",
       "      <td>12.9</td>\n",
       "      <td>-74.005043</td>\n",
       "      <td>40.740770</td>\n",
       "      <td>-73.962565</td>\n",
       "      <td>40.772647</td>\n",
       "      <td>1</td>\n",
       "      <td>24</td>\n",
       "      <td>21</td>\n",
       "      <td>0</td>\n",
       "      <td>8</td>\n",
       "      <td>2009</td>\n",
       "      <td>5.036377</td>\n",
       "    </tr>\n",
       "    <tr>\n",
       "      <th>3</th>\n",
       "      <td>5.3</td>\n",
       "      <td>-73.976124</td>\n",
       "      <td>40.790844</td>\n",
       "      <td>-73.965316</td>\n",
       "      <td>40.803349</td>\n",
       "      <td>3</td>\n",
       "      <td>26</td>\n",
       "      <td>8</td>\n",
       "      <td>4</td>\n",
       "      <td>6</td>\n",
       "      <td>2009</td>\n",
       "      <td>1.661683</td>\n",
       "    </tr>\n",
       "    <tr>\n",
       "      <th>4</th>\n",
       "      <td>16.0</td>\n",
       "      <td>-73.925023</td>\n",
       "      <td>40.744085</td>\n",
       "      <td>-73.973082</td>\n",
       "      <td>40.761247</td>\n",
       "      <td>5</td>\n",
       "      <td>28</td>\n",
       "      <td>17</td>\n",
       "      <td>3</td>\n",
       "      <td>8</td>\n",
       "      <td>2014</td>\n",
       "      <td>4.475450</td>\n",
       "    </tr>\n",
       "  </tbody>\n",
       "</table>\n",
       "</div>"
      ],
      "text/plain": [
       "   fare_amount  pickup_longitude  pickup_latitude  dropoff_longitude  \\\n",
       "0          7.5        -73.999817        40.738354         -73.999512   \n",
       "1          7.7        -73.994355        40.728225         -73.994710   \n",
       "2         12.9        -74.005043        40.740770         -73.962565   \n",
       "3          5.3        -73.976124        40.790844         -73.965316   \n",
       "4         16.0        -73.925023        40.744085         -73.973082   \n",
       "\n",
       "   dropoff_latitude  passenger_count  day  hour  weekday  month  year  \\\n",
       "0         40.723217                1    7    19        3      5  2015   \n",
       "1         40.750325                1   17    20        4      7  2009   \n",
       "2         40.772647                1   24    21        0      8  2009   \n",
       "3         40.803349                3   26     8        4      6  2009   \n",
       "4         40.761247                5   28    17        3      8  2014   \n",
       "\n",
       "   distance  \n",
       "0  1.683323  \n",
       "1  2.457590  \n",
       "2  5.036377  \n",
       "3  1.661683  \n",
       "4  4.475450  "
      ]
     },
     "execution_count": 11,
     "metadata": {},
     "output_type": "execute_result"
    }
   ],
   "source": [
    "#Use the URL for the raw CSV data\n",
    "url = 'https://raw.githubusercontent.com/Dhanush-adk/machine_learning/main/project/data_preprocessed.csv'\n",
    "df = pd.read_csv(url)\n",
    "\n",
    "# Display the first 5 rows of the DataFrame\n",
    "df.head()"
   ]
  },
  {
   "cell_type": "code",
   "execution_count": 12,
   "metadata": {},
   "outputs": [],
   "source": [
    "import torch\n",
    "import torch.nn as nn\n",
    "import torch.optim as optim\n",
    "from torch.utils.data import DataLoader, TensorDataset"
   ]
  },
  {
   "cell_type": "code",
   "execution_count": 24,
   "metadata": {},
   "outputs": [],
   "source": [
    "X = df.drop('fare_amount', axis = 1)\n",
    "y = df[['fare_amount']]"
   ]
  },
  {
   "cell_type": "code",
   "execution_count": 25,
   "metadata": {},
   "outputs": [],
   "source": [
    "from sklearn.preprocessing import MinMaxScaler"
   ]
  },
  {
   "cell_type": "code",
   "execution_count": 26,
   "metadata": {},
   "outputs": [],
   "source": [
    "scaler_x = MinMaxScaler()\n",
    "scaler_y = MinMaxScaler()"
   ]
  },
  {
   "cell_type": "code",
   "execution_count": 27,
   "metadata": {},
   "outputs": [],
   "source": [
    "X = pd.DataFrame(scaler_x.fit_transform(X), columns=X.columns, index=X.index).values\n",
    "y = pd.DataFrame(scaler_y.fit_transform(y), columns=y.columns, index=y.index).values"
   ]
  },
  {
   "cell_type": "code",
   "execution_count": 29,
   "metadata": {},
   "outputs": [],
   "source": [
    "train_X, val_X, train_Y, val_Y = train_test_split(X, y, test_size=0.2, random_state=42)\n",
    "X_train = torch.tensor(train_X)\n",
    "y_train =  torch.tensor(train_Y)\n",
    "X_val =  torch.tensor(val_X)\n",
    "y_val =  torch.tensor(val_Y)"
   ]
  },
  {
   "cell_type": "code",
   "execution_count": 30,
   "metadata": {},
   "outputs": [],
   "source": [
    "training_data = TensorDataset(X_train, y_train)\n",
    "train_loader = DataLoader(training_data, batch_size=32, shuffle=True)\n",
    "\n",
    "val_data = TensorDataset(X_val, y_val)\n",
    "val_loader = DataLoader(val_data, batch_size=32)"
   ]
  },
  {
   "cell_type": "code",
   "execution_count": 31,
   "metadata": {},
   "outputs": [],
   "source": [
    "def model_train(model, criterion, optimizer, epochs, train_loader, X_val, y_val):\n",
    "    loss_train = []\n",
    "    loss_val = []\n",
    "    for epoch in range(epochs + 1):\n",
    "        # Training\n",
    "        model.train()\n",
    "        for inputs, targets in train_loader:\n",
    "            optimizer.zero_grad()\n",
    "            outputs = model(inputs)\n",
    "            loss = criterion(outputs, targets.view(-1,1))\n",
    "            loss.backward()\n",
    "            optimizer.step()\n",
    "        # Validation\n",
    "        model.eval()\n",
    "        with torch.no_grad():\n",
    "            val_outputs = model(X_val)\n",
    "            val_loss = criterion(val_outputs, y_val)\n",
    "            if epoch % 50 == 0:\n",
    "              print(f'Epoch {epoch}/{epochs}, Training Loss: {loss.item()}, Validation Loss: {val_loss.item()}')\n",
    "            loss_val.append(val_loss)\n",
    "            loss_train.append(loss)\n",
    "    return loss_train, loss_val"
   ]
  },
  {
   "cell_type": "code",
   "execution_count": 32,
   "metadata": {},
   "outputs": [],
   "source": [
    "model1 = nn.Sequential(\n",
    "    nn.Linear(X_train.shape[1], 32),\n",
    "    nn.Tanh(),\n",
    "    nn.Linear(32, 1)\n",
    ").to(torch.float64)\n",
    "optimizer1 = optim.SGD(model1.parameters(), lr=0.01)\n"
   ]
  },
  {
   "cell_type": "code",
   "execution_count": 34,
   "metadata": {},
   "outputs": [
    {
     "name": "stdout",
     "output_type": "stream",
     "text": [
      "Epoch 0/1000, Training Loss: 5.9661358380521694e-05, Validation Loss: 0.00015459380864179403\n",
      "Epoch 50/1000, Training Loss: 6.233348764914806e-05, Validation Loss: 0.0001541710651531631\n",
      "Epoch 100/1000, Training Loss: 4.596768291374782e-05, Validation Loss: 0.0001543408552982676\n",
      "Epoch 150/1000, Training Loss: 0.0003102000181479714, Validation Loss: 0.00015441194221394193\n",
      "Epoch 200/1000, Training Loss: 3.206526735146583e-05, Validation Loss: 0.00015324205765908738\n",
      "Epoch 250/1000, Training Loss: 0.00018014126714096013, Validation Loss: 0.0001528373211505636\n",
      "Epoch 300/1000, Training Loss: 4.333596113835117e-05, Validation Loss: 0.0001525138064958024\n",
      "Epoch 350/1000, Training Loss: 2.747353963860329e-05, Validation Loss: 0.0001521130008712902\n",
      "Epoch 400/1000, Training Loss: 2.5380600025640892e-05, Validation Loss: 0.00015190480821685037\n",
      "Epoch 450/1000, Training Loss: 2.6482739318255635e-05, Validation Loss: 0.0001520346233041507\n",
      "Epoch 500/1000, Training Loss: 2.5748684457733897e-05, Validation Loss: 0.00015142592965320198\n",
      "Epoch 550/1000, Training Loss: 0.0004082692171685831, Validation Loss: 0.00015043741327054998\n",
      "Epoch 600/1000, Training Loss: 0.00016897435834264442, Validation Loss: 0.00015021683529385765\n",
      "Epoch 650/1000, Training Loss: 2.0673054942488618e-05, Validation Loss: 0.00014952554743493082\n",
      "Epoch 700/1000, Training Loss: 2.2409704095897263e-05, Validation Loss: 0.0001489858289517456\n",
      "Epoch 750/1000, Training Loss: 4.665080742938641e-05, Validation Loss: 0.00014846900542098346\n",
      "Epoch 800/1000, Training Loss: 1.7493704279339498e-05, Validation Loss: 0.0001479192473429687\n",
      "Epoch 850/1000, Training Loss: 2.7595698403008646e-05, Validation Loss: 0.00014736542462304817\n",
      "Epoch 900/1000, Training Loss: 1.894536067605902e-05, Validation Loss: 0.0001469570174767237\n",
      "Epoch 950/1000, Training Loss: 0.00039182553412103185, Validation Loss: 0.00014824941572599343\n",
      "Epoch 1000/1000, Training Loss: 3.0739169775071536e-05, Validation Loss: 0.00014569943699833853\n",
      "Training Time: 5810.120857954025 seconds\n"
     ]
    }
   ],
   "source": [
    "import time\n",
    "\n",
    "start_time = time.time()\n",
    "train_loss, val_loss = model_train(model1, nn.MSELoss(), optimizer1, 1000, train_loader, X_val, y_val)\n",
    "end_time = time.time()\n",
    "training_time = end_time - start_time\n",
    "print(f\"Training Time: {training_time} seconds\")"
   ]
  },
  {
   "cell_type": "code",
   "execution_count": 35,
   "metadata": {},
   "outputs": [],
   "source": [
    "torch.save(model1, 'model1.pth')"
   ]
  },
  {
   "cell_type": "code",
   "execution_count": 36,
   "metadata": {},
   "outputs": [],
   "source": [
    "import pickle\n",
    "\n",
    "# Save list to a file\n",
    "with open('train_loss1.pkl', 'wb') as file:\n",
    "    pickle.dump(train_loss, file)\n",
    "with open('val_loss1.pkl', 'wb') as file:\n",
    "    pickle.dump(val_loss, file)\n"
   ]
  },
  {
   "cell_type": "code",
   "execution_count": 37,
   "metadata": {},
   "outputs": [],
   "source": [
    "model2 =  nn.Sequential(\n",
    "    nn.Linear(X_train.shape[1], 32),\n",
    "    nn.Tanh(),\n",
    "    nn.Linear(32, 64),  # Second hidden layer with 64 neurons\n",
    "    nn.Tanh(),\n",
    "    nn.Linear(64, 16),  # Third hidden layer with 16 neurons\n",
    "    nn.Tanh(),\n",
    "    nn.Linear(16, 1) # Output layer with 1 neuron\n",
    ").to(torch.float64)\n",
    "criterion = nn.MSELoss()\n",
    "optimizer1 = optim.SGD(model2.parameters(), lr=0.01)"
   ]
  },
  {
   "cell_type": "code",
   "execution_count": 38,
   "metadata": {},
   "outputs": [
    {
     "name": "stdout",
     "output_type": "stream",
     "text": [
      "Epoch 0/1000, Training Loss: 6.843239125973793e-05, Validation Loss: 0.00022764579403914428\n",
      "Epoch 50/1000, Training Loss: 0.005958582697228134, Validation Loss: 0.00022077929988517178\n",
      "Epoch 100/1000, Training Loss: 2.9965542653626924e-05, Validation Loss: 0.00014572898028660856\n",
      "Epoch 150/1000, Training Loss: 2.0791336057972975e-05, Validation Loss: 0.00014035209662042637\n",
      "Epoch 200/1000, Training Loss: 2.902645707053212e-05, Validation Loss: 0.00013866353724894254\n",
      "Epoch 250/1000, Training Loss: 0.00024315962714454466, Validation Loss: 0.00014188710170682473\n",
      "Epoch 300/1000, Training Loss: 2.4669059157896352e-05, Validation Loss: 0.00013754930356218623\n",
      "Epoch 350/1000, Training Loss: 2.7087948643864502e-05, Validation Loss: 0.0001401711852001681\n",
      "Epoch 400/1000, Training Loss: 1.4911324849866972e-05, Validation Loss: 0.0001370326273855936\n",
      "Epoch 450/1000, Training Loss: 1.879837086952631e-05, Validation Loss: 0.00013725313838598209\n",
      "Epoch 500/1000, Training Loss: 3.843759139832828e-05, Validation Loss: 0.00013741041939509515\n",
      "Epoch 550/1000, Training Loss: 1.38881505542475e-05, Validation Loss: 0.00013722550732989908\n",
      "Epoch 600/1000, Training Loss: 0.00011244603854107467, Validation Loss: 0.000137946347200477\n",
      "Epoch 650/1000, Training Loss: 2.192893953871943e-05, Validation Loss: 0.00013625046379710202\n",
      "Epoch 700/1000, Training Loss: 7.69577575432348e-05, Validation Loss: 0.00013645133726873038\n",
      "Epoch 750/1000, Training Loss: 1.64499374852953e-05, Validation Loss: 0.00013583596865258425\n",
      "Epoch 800/1000, Training Loss: 4.527040087646777e-05, Validation Loss: 0.0001361217853888858\n",
      "Epoch 850/1000, Training Loss: 0.0005393340663401227, Validation Loss: 0.000139311682470236\n",
      "Epoch 900/1000, Training Loss: 5.4862857652696845e-05, Validation Loss: 0.00013655936702431588\n",
      "Epoch 950/1000, Training Loss: 9.84251648279914e-05, Validation Loss: 0.00013901753670110664\n",
      "Epoch 1000/1000, Training Loss: 3.9296256337611596e-05, Validation Loss: 0.0001358909895221266\n",
      "Training Time: 7067.355103969574 seconds\n"
     ]
    }
   ],
   "source": [
    "\n",
    "import time\n",
    "\n",
    "start_time = time.time()\n",
    "train_loss2, val_loss2 = model_train(model2, nn.MSELoss(), optimizer1, 1000, train_loader, X_val, y_val)\n",
    "end_time = time.time()\n",
    "training_time = end_time - start_time\n",
    "print(f\"Training Time: {training_time} seconds\")\n"
   ]
  },
  {
   "cell_type": "code",
   "execution_count": 39,
   "metadata": {},
   "outputs": [],
   "source": [
    "torch.save(model2, 'model2.pth')"
   ]
  },
  {
   "cell_type": "code",
   "execution_count": 40,
   "metadata": {},
   "outputs": [],
   "source": [
    "import pickle\n",
    "\n",
    "# Save list to a file\n",
    "with open('train_loss2.pkl', 'wb') as file:\n",
    "    pickle.dump(train_loss2, file)\n",
    "with open('val_loss2.pkl', 'wb') as file:\n",
    "    pickle.dump(val_loss2, file)\n"
   ]
  },
  {
   "cell_type": "code",
   "execution_count": null,
   "metadata": {},
   "outputs": [],
   "source": []
  },
  {
   "cell_type": "markdown",
   "metadata": {},
   "source": [
    "#For more iterations"
   ]
  },
  {
   "cell_type": "code",
   "execution_count": 41,
   "metadata": {},
   "outputs": [],
   "source": [
    "model1 = nn.Sequential(\n",
    "    nn.Linear(X_train.shape[1], 32),\n",
    "    nn.Tanh(),\n",
    "    nn.Linear(32, 1)\n",
    ").to(torch.float64)\n",
    "optimizer1 = optim.SGD(model1.parameters(), lr=0.01)"
   ]
  },
  {
   "cell_type": "code",
   "execution_count": 42,
   "metadata": {},
   "outputs": [
    {
     "name": "stdout",
     "output_type": "stream",
     "text": [
      "Epoch 0/3000, Training Loss: 0.0005010977666786617, Validation Loss: 0.0003427195351851215\n",
      "Epoch 50/3000, Training Loss: 2.9452807770724565e-05, Validation Loss: 0.00016045881195886553\n",
      "Epoch 100/3000, Training Loss: 1.2598385043474273e-05, Validation Loss: 0.00015809816641553908\n",
      "Epoch 150/3000, Training Loss: 2.8288454861302467e-05, Validation Loss: 0.00015692262163792713\n",
      "Epoch 200/3000, Training Loss: 3.108443919892571e-05, Validation Loss: 0.0001560837211030549\n",
      "Epoch 250/3000, Training Loss: 8.342218251981957e-05, Validation Loss: 0.00015539638752228323\n",
      "Epoch 300/3000, Training Loss: 0.00032544650032445836, Validation Loss: 0.00015480705851685905\n",
      "Epoch 350/3000, Training Loss: 0.0002327060515994678, Validation Loss: 0.00015446814990509116\n",
      "Epoch 400/3000, Training Loss: 1.871891406459076e-05, Validation Loss: 0.00015394763764738493\n",
      "Epoch 450/3000, Training Loss: 1.558071405921173e-05, Validation Loss: 0.00015335120636444967\n",
      "Epoch 500/3000, Training Loss: 0.00041551552910179047, Validation Loss: 0.0001545997060659373\n",
      "Epoch 550/3000, Training Loss: 1.710346470943078e-05, Validation Loss: 0.00015285623219215647\n",
      "Epoch 600/3000, Training Loss: 1.1579970782688945e-05, Validation Loss: 0.00015214104123675759\n",
      "Epoch 650/3000, Training Loss: 4.153704003967534e-05, Validation Loss: 0.0001521515989652342\n",
      "Epoch 700/3000, Training Loss: 5.735413541779916e-05, Validation Loss: 0.00015118602620804118\n",
      "Epoch 750/3000, Training Loss: 0.0010603689649168217, Validation Loss: 0.00015394843051033186\n",
      "Epoch 800/3000, Training Loss: 4.296737490246744e-05, Validation Loss: 0.00015027891173682436\n",
      "Epoch 850/3000, Training Loss: 7.460680058741653e-05, Validation Loss: 0.00014981397859432233\n",
      "Epoch 900/3000, Training Loss: 3.381641595150825e-05, Validation Loss: 0.0001493395935394838\n",
      "Epoch 950/3000, Training Loss: 5.157070500432577e-05, Validation Loss: 0.0001489852449437596\n",
      "Epoch 1000/3000, Training Loss: 1.6121364841861512e-05, Validation Loss: 0.00014834132680240612\n",
      "Epoch 1050/3000, Training Loss: 5.248272098801357e-05, Validation Loss: 0.0001477978222220476\n",
      "Epoch 1100/3000, Training Loss: 3.0269631468757707e-05, Validation Loss: 0.00014846028659703001\n",
      "Epoch 1150/3000, Training Loss: 2.673918291850492e-05, Validation Loss: 0.00014673251706874744\n",
      "Epoch 1200/3000, Training Loss: 6.4902126244519e-05, Validation Loss: 0.00014606335203175036\n",
      "Epoch 1250/3000, Training Loss: 0.00045922813655147987, Validation Loss: 0.00014563912912647457\n",
      "Epoch 1300/3000, Training Loss: 1.664362563073243e-05, Validation Loss: 0.0001453682381358509\n",
      "Epoch 1350/3000, Training Loss: 4.691472935400533e-05, Validation Loss: 0.00014451489332238294\n",
      "Epoch 1400/3000, Training Loss: 2.9204554908645235e-05, Validation Loss: 0.00014417376136828509\n",
      "Epoch 1450/3000, Training Loss: 2.6118996444255765e-05, Validation Loss: 0.0001437759419871581\n",
      "Epoch 1500/3000, Training Loss: 2.5834512378188584e-05, Validation Loss: 0.0001432374479907096\n",
      "Epoch 1550/3000, Training Loss: 5.450736351901255e-05, Validation Loss: 0.00014359989097657077\n",
      "Epoch 1600/3000, Training Loss: 1.9861719217818878e-05, Validation Loss: 0.00014214661970047678\n",
      "Epoch 1650/3000, Training Loss: 2.687087884396559e-05, Validation Loss: 0.00014203410305392805\n",
      "Epoch 1700/3000, Training Loss: 7.150695776798405e-05, Validation Loss: 0.00014212350187134087\n",
      "Epoch 1750/3000, Training Loss: 5.07826448461587e-05, Validation Loss: 0.00014117334085049\n",
      "Epoch 1800/3000, Training Loss: 0.0002489729873927966, Validation Loss: 0.0001406705174628411\n",
      "Epoch 1850/3000, Training Loss: 3.7574558915648894e-05, Validation Loss: 0.00014041023042437136\n",
      "Epoch 1900/3000, Training Loss: 1.7615769438814946e-05, Validation Loss: 0.00014007538242746107\n",
      "Epoch 1950/3000, Training Loss: 0.00011432079606154968, Validation Loss: 0.0001399567216701911\n",
      "Epoch 2000/3000, Training Loss: 5.252232810938322e-05, Validation Loss: 0.0001396502241855393\n",
      "Epoch 2050/3000, Training Loss: 0.00037211405438626117, Validation Loss: 0.0001394561375359303\n",
      "Epoch 2100/3000, Training Loss: 5.148015763755811e-05, Validation Loss: 0.000139302357695604\n",
      "Epoch 2150/3000, Training Loss: 6.440617871546163e-05, Validation Loss: 0.0001389554445326155\n",
      "Epoch 2200/3000, Training Loss: 3.2449236853987744e-05, Validation Loss: 0.00013899078227162004\n",
      "Epoch 2250/3000, Training Loss: 5.165806393664023e-05, Validation Loss: 0.00013859310460394005\n",
      "Epoch 2300/3000, Training Loss: 6.87683820360332e-05, Validation Loss: 0.00014040752205969872\n",
      "Epoch 2350/3000, Training Loss: 0.00021268370691674324, Validation Loss: 0.00013828429826423513\n",
      "Epoch 2400/3000, Training Loss: 1.9009056577583168e-05, Validation Loss: 0.00013817524363349734\n",
      "Epoch 2450/3000, Training Loss: 0.0004434071192654473, Validation Loss: 0.00013850460427684502\n",
      "Epoch 2500/3000, Training Loss: 4.364472637239823e-05, Validation Loss: 0.00013792600556306752\n",
      "Epoch 2550/3000, Training Loss: 6.745453451952982e-06, Validation Loss: 0.00013822599705267603\n",
      "Epoch 2600/3000, Training Loss: 0.0004085454222126472, Validation Loss: 0.00013776165842090983\n",
      "Epoch 2650/3000, Training Loss: 2.6254728849467253e-05, Validation Loss: 0.00013763011688299977\n",
      "Epoch 2700/3000, Training Loss: 2.79249758668834e-05, Validation Loss: 0.00013743500787702302\n",
      "Epoch 2750/3000, Training Loss: 2.882830369663244e-05, Validation Loss: 0.00013812280580106876\n",
      "Epoch 2800/3000, Training Loss: 7.013074021070718e-05, Validation Loss: 0.00013749613583343388\n",
      "Epoch 2850/3000, Training Loss: 3.765572938037255e-05, Validation Loss: 0.00013723321579295241\n",
      "Epoch 2900/3000, Training Loss: 0.00016769445090729867, Validation Loss: 0.0001377599157021652\n",
      "Epoch 2950/3000, Training Loss: 2.309678409839463e-05, Validation Loss: 0.00013711492312323093\n",
      "Epoch 3000/3000, Training Loss: 3.7119465884098364e-05, Validation Loss: 0.00013769323805948042\n",
      "Training Time: 11747.029654026031 seconds\n"
     ]
    }
   ],
   "source": [
    "import time\n",
    "\n",
    "start_time = time.time()\n",
    "train_loss_3000, val_loss_3000 = model_train(model1, nn.MSELoss(), optimizer1, 3000, train_loader, X_val, y_val)\n",
    "end_time = time.time()\n",
    "training_time = end_time - start_time\n",
    "print(f\"Training Time: {training_time} seconds\")"
   ]
  },
  {
   "cell_type": "code",
   "execution_count": 43,
   "metadata": {},
   "outputs": [],
   "source": [
    "torch.save(model1, 'model1_3000.pth')"
   ]
  },
  {
   "cell_type": "code",
   "execution_count": 44,
   "metadata": {},
   "outputs": [],
   "source": [
    "import pickle\n",
    "\n",
    "# Save list to a file\n",
    "with open('train_loss1_3000.pkl', 'wb') as file:\n",
    "    pickle.dump(train_loss_3000 , file)\n",
    "with open('val_loss1_3000.pkl', 'wb') as file:\n",
    "    pickle.dump(val_loss_3000, file)\n"
   ]
  },
  {
   "cell_type": "code",
   "execution_count": 45,
   "metadata": {},
   "outputs": [],
   "source": [
    "model2 =  nn.Sequential(\n",
    "    nn.Linear(X_train.shape[1], 32),\n",
    "    nn.Tanh(),\n",
    "    nn.Linear(32, 64),  # Second hidden layer with 64 neurons\n",
    "    nn.Tanh(),\n",
    "    nn.Linear(64, 16),  # Third hidden layer with 16 neurons\n",
    "    nn.Tanh(),\n",
    "    nn.Linear(16, 1) # Output layer with 1 neuron\n",
    ").to(torch.float64)\n",
    "criterion = nn.MSELoss()\n",
    "optimizer1 = optim.SGD(model2.parameters(), lr=0.1)"
   ]
  },
  {
   "cell_type": "code",
   "execution_count": 46,
   "metadata": {},
   "outputs": [
    {
     "name": "stdout",
     "output_type": "stream",
     "text": [
      "Epoch 0/3000, Training Loss: 7.647551501018402e-05, Validation Loss: 0.0003049115859010315\n",
      "Epoch 50/3000, Training Loss: 8.128927060378039e-05, Validation Loss: 0.00015213193264450601\n",
      "Epoch 100/3000, Training Loss: 0.00011005738458498954, Validation Loss: 0.00015245677686601426\n",
      "Epoch 150/3000, Training Loss: 7.954926391730664e-05, Validation Loss: 0.0001451562475762302\n",
      "Epoch 200/3000, Training Loss: 1.4209898622384802e-05, Validation Loss: 0.00014443838952172186\n",
      "Epoch 250/3000, Training Loss: 0.0005525327851755336, Validation Loss: 0.00014177092164798178\n",
      "Epoch 300/3000, Training Loss: 7.718997714245658e-05, Validation Loss: 0.00014038139255919912\n",
      "Epoch 350/3000, Training Loss: 0.0001175474522075065, Validation Loss: 0.0001388535785203848\n",
      "Epoch 400/3000, Training Loss: 0.0006768660158923974, Validation Loss: 0.00014431896728174518\n",
      "Epoch 450/3000, Training Loss: 0.00046406006380816586, Validation Loss: 0.00014674716970499208\n",
      "Epoch 500/3000, Training Loss: 3.3205567562722174e-05, Validation Loss: 0.0001374500434969426\n",
      "Epoch 550/3000, Training Loss: 3.0143948874749386e-05, Validation Loss: 0.00013714236354124912\n",
      "Epoch 600/3000, Training Loss: 1.8821087672264127e-05, Validation Loss: 0.00013668237409779514\n",
      "Epoch 650/3000, Training Loss: 5.3097400790689065e-05, Validation Loss: 0.0001369877067074381\n",
      "Epoch 700/3000, Training Loss: 2.4730488071928266e-05, Validation Loss: 0.00013720683108533983\n",
      "Epoch 750/3000, Training Loss: 0.000391850596178667, Validation Loss: 0.0001456138289389267\n",
      "Epoch 800/3000, Training Loss: 6.371718310255504e-05, Validation Loss: 0.0001352552155104096\n",
      "Epoch 850/3000, Training Loss: 1.2036141830981024e-05, Validation Loss: 0.00013476132887511842\n",
      "Epoch 900/3000, Training Loss: 0.0002800289939332764, Validation Loss: 0.00014298939768130024\n",
      "Epoch 950/3000, Training Loss: 2.449778147465128e-05, Validation Loss: 0.0001346907211854973\n",
      "Epoch 1000/3000, Training Loss: 4.584177485090773e-05, Validation Loss: 0.00013693302698280306\n",
      "Epoch 1050/3000, Training Loss: 8.349671016616135e-05, Validation Loss: 0.00013543331072057076\n",
      "Epoch 1100/3000, Training Loss: 2.6768512515302413e-05, Validation Loss: 0.0001349201232984994\n",
      "Epoch 1150/3000, Training Loss: 1.937268362443785e-05, Validation Loss: 0.0001365524933633751\n",
      "Epoch 1200/3000, Training Loss: 2.9290163339746662e-05, Validation Loss: 0.00013471307520386355\n",
      "Epoch 1250/3000, Training Loss: 4.333143719683651e-05, Validation Loss: 0.00013512865064684671\n",
      "Epoch 1300/3000, Training Loss: 5.315578194811177e-05, Validation Loss: 0.00013504246406995498\n",
      "Epoch 1350/3000, Training Loss: 0.00020253792203219227, Validation Loss: 0.00013693703675030227\n",
      "Epoch 1400/3000, Training Loss: 3.563725851338993e-05, Validation Loss: 0.00013687564261856996\n",
      "Epoch 1450/3000, Training Loss: 2.8404070040236084e-05, Validation Loss: 0.00013554696101176987\n",
      "Epoch 1500/3000, Training Loss: 9.427498189047043e-05, Validation Loss: 0.00013457054395577586\n",
      "Epoch 1550/3000, Training Loss: 2.698096530695003e-05, Validation Loss: 0.00013574577359995788\n",
      "Epoch 1600/3000, Training Loss: 6.324269080307005e-05, Validation Loss: 0.00013496295855648356\n",
      "Epoch 1650/3000, Training Loss: 2.377790404451375e-05, Validation Loss: 0.0001362980289012549\n",
      "Epoch 1700/3000, Training Loss: 2.07668070506706e-05, Validation Loss: 0.00013464293987973126\n",
      "Epoch 1750/3000, Training Loss: 1.8785962236002243e-05, Validation Loss: 0.00013412492552997764\n",
      "Epoch 1800/3000, Training Loss: 1.644351220113831e-05, Validation Loss: 0.00013514227652149975\n",
      "Epoch 1850/3000, Training Loss: 0.00034301799665462974, Validation Loss: 0.00013580302646045385\n",
      "Epoch 1900/3000, Training Loss: 0.00048615085658950313, Validation Loss: 0.00013833398268119483\n",
      "Epoch 1950/3000, Training Loss: 4.709947627150961e-05, Validation Loss: 0.00013498456471278795\n",
      "Epoch 2000/3000, Training Loss: 0.00010127440875509549, Validation Loss: 0.0001344020800570486\n",
      "Epoch 2050/3000, Training Loss: 0.0001605957140819901, Validation Loss: 0.0001343458949928933\n",
      "Epoch 2100/3000, Training Loss: 3.152931041739092e-05, Validation Loss: 0.0001338280039401558\n",
      "Epoch 2150/3000, Training Loss: 2.1709371423563972e-05, Validation Loss: 0.0001341959486034345\n",
      "Epoch 2200/3000, Training Loss: 1.8925055897524998e-05, Validation Loss: 0.0001341800430276294\n",
      "Epoch 2250/3000, Training Loss: 2.4280297248488466e-05, Validation Loss: 0.000136801860106331\n",
      "Epoch 2300/3000, Training Loss: 0.0005159463572423725, Validation Loss: 0.0001405976316701021\n",
      "Epoch 2350/3000, Training Loss: 2.8572417472104832e-05, Validation Loss: 0.0001337550629591599\n",
      "Epoch 2400/3000, Training Loss: 1.7882743627803658e-05, Validation Loss: 0.00013499849174903662\n",
      "Epoch 2450/3000, Training Loss: 1.0522251885483722e-05, Validation Loss: 0.00013396050725603253\n",
      "Epoch 2500/3000, Training Loss: 1.4902480467091857e-05, Validation Loss: 0.00013407046761383627\n",
      "Epoch 2550/3000, Training Loss: 1.4137831173615205e-05, Validation Loss: 0.00013376738671089087\n",
      "Epoch 2600/3000, Training Loss: 2.468653520823169e-05, Validation Loss: 0.00013338255581361324\n",
      "Epoch 2650/3000, Training Loss: 8.11485206940231e-05, Validation Loss: 0.00013407037013353683\n",
      "Epoch 2700/3000, Training Loss: 2.1888852694559395e-05, Validation Loss: 0.0001340345928735963\n",
      "Epoch 2750/3000, Training Loss: 0.00012330891844304021, Validation Loss: 0.00013348463266902027\n",
      "Epoch 2800/3000, Training Loss: 0.00024961253822349216, Validation Loss: 0.00013401482187205328\n",
      "Epoch 2850/3000, Training Loss: 0.0003898475246958266, Validation Loss: 0.00013446232347369614\n",
      "Epoch 2900/3000, Training Loss: 4.643750689425608e-05, Validation Loss: 0.00013525168819678493\n",
      "Epoch 2950/3000, Training Loss: 2.7008070978962582e-05, Validation Loss: 0.00013352872490160077\n",
      "Epoch 3000/3000, Training Loss: 4.386257764710842e-05, Validation Loss: 0.00013543824270151442\n",
      "Training Time: 30213.81294798851 seconds\n"
     ]
    }
   ],
   "source": [
    "import time\n",
    "\n",
    "start_time = time.time()\n",
    "train_loss_2_3000, val_loss_2_3000 = model_train(model2, nn.MSELoss(), optimizer1, 3000, train_loader, X_val, y_val)\n",
    "end_time = time.time()\n",
    "training_time = end_time - start_time\n",
    "print(f\"Training Time: {training_time} seconds\")"
   ]
  },
  {
   "cell_type": "code",
   "execution_count": 47,
   "metadata": {},
   "outputs": [],
   "source": [
    "torch.save(model2, 'model2_3000.pth')"
   ]
  },
  {
   "cell_type": "code",
   "execution_count": 48,
   "metadata": {},
   "outputs": [],
   "source": [
    "import pickle\n",
    "\n",
    "# Save list to a file\n",
    "with open('train_loss_2_3000.pkl', 'wb') as file:\n",
    "    pickle.dump(train_loss_2_3000, file)\n",
    "with open('val_loss_2_3000.pkl', 'wb') as file:\n",
    "    pickle.dump(val_loss_2_3000, file)\n"
   ]
  },
  {
   "cell_type": "code",
   "execution_count": 51,
   "metadata": {},
   "outputs": [
    {
     "name": "stdout",
     "output_type": "stream",
     "text": [
      "Sequential(\n",
      "  (0): Linear(in_features=11, out_features=32, bias=True)\n",
      "  (1): Tanh()\n",
      "  (2): Linear(in_features=32, out_features=1, bias=True)\n",
      ")\n"
     ]
    }
   ],
   "source": [
    "print(model1)"
   ]
  },
  {
   "cell_type": "code",
   "execution_count": 108,
   "metadata": {},
   "outputs": [],
   "source": [
    "epochs = range(0, 1001, 50)"
   ]
  },
  {
   "cell_type": "code",
   "execution_count": 109,
   "metadata": {},
   "outputs": [],
   "source": [
    "def downsample_losses(train_loss, val_loss, step=50):\n",
    "    train_loss_batch = [train_loss[i].detach().item() for i in range(0, len(train_loss), step)]\n",
    "    val_loss_batch = [val_loss[i].detach().item() for i in range(0, len(val_loss), step)]\n",
    "    return train_loss_batch, val_loss_batch"
   ]
  },
  {
   "cell_type": "code",
   "execution_count": 110,
   "metadata": {},
   "outputs": [],
   "source": [
    "train_loss_batch1, val_loss_batch1 = downsample_losses(train_loss, val_loss, step=50)\n",
    "train_loss_batch2, val_loss_batch2 = downsample_losses(train_loss2, val_loss2, step=50)"
   ]
  },
  {
   "cell_type": "code",
   "execution_count": 111,
   "metadata": {},
   "outputs": [
    {
     "data": {
      "image/png": "[encoded data removed]",
      "text/plain": [
       "<Figure size 1000x800 with 2 Axes>"
      ]
     },
     "metadata": {},
     "output_type": "display_data"
    }
   ],
   "source": [
    "plt.figure(figsize=(10, 8))\n",
    "\n",
    "plt.subplot(2,2,1)\n",
    "plt.plot(epochs, train_loss_batch1, color='blue', label = 'training Loss')\n",
    "plt.plot(epochs, val_loss_batch1, color='red', label = 'validation Loss')\n",
    "plt.title('Loss with Learning Rate of 0.01 (1 hidden layer)')\n",
    "plt.legend()\n",
    "\n",
    "plt.subplot(2,2,2)\n",
    "plt.plot(epochs, train_loss_batch2, color='blue', label = 'training Loss')\n",
    "plt.plot(epochs, val_loss_batch2, color='red', label = 'validation Loss')\n",
    "plt.title('Loss with Learning Rate of 0.01 (3 Hidden Layers)')\n",
    "plt.legend()\n",
    "\n",
    "plt.show()"
   ]
  },
  {
   "cell_type": "code",
   "execution_count": 105,
   "metadata": {},
   "outputs": [],
   "source": [
    "train_loss_batch3, val_loss_batch3 = downsample_losses(train_loss_3000, val_loss_3000, step=50)\n",
    "train_loss_batch4, val_loss_batch4 = downsample_losses(train_loss_2_3000, val_loss_2_3000, step=50)"
   ]
  },
  {
   "cell_type": "code",
   "execution_count": 103,
   "metadata": {},
   "outputs": [],
   "source": [
    "epochs = range(0, 3001, 50)"
   ]
  },
  {
   "cell_type": "code",
   "execution_count": 106,
   "metadata": {},
   "outputs": [
    {
     "data": {
      "image/png": "[encoded data removed]",
      "text/plain": [
       "<Figure size 1000x800 with 2 Axes>"
      ]
     },
     "metadata": {},
     "output_type": "display_data"
    }
   ],
   "source": [
    "plt.figure(figsize=(10, 8))\n",
    "\n",
    "plt.subplot(2,2,1)\n",
    "plt.plot(epochs, train_loss_batch3, color='blue', label = 'training Loss')\n",
    "plt.plot(epochs, val_loss_batch3, color='red', label = 'validation Loss')\n",
    "plt.title('Loss with Learning Rate of 0.01 (1 hidden layer)')\n",
    "plt.legend()\n",
    "\n",
    "plt.subplot(2,2,2)\n",
    "plt.plot(epochs, train_loss_batch4, color='blue', label = 'training Loss')\n",
    "plt.plot(epochs, val_loss_batch4, color='red', label = 'validation Loss')\n",
    "plt.title('Loss with Learning Rate of 0.01 (3 Hidden Layers)')\n",
    "plt.legend()\n",
    "\n",
    "plt.show()"
   ]
  },
  {
   "cell_type": "code",
   "execution_count": 8,
   "metadata": {},
   "outputs": [
    {
     "name": "stdout",
     "output_type": "stream",
     "text": [
      "0.weight\n",
      "0.bias\n",
      "2.weight\n",
      "2.bias\n",
      "Total number of trainable parameters  417 \n",
      "\n"
     ]
    }
   ],
   "source": [
    "import torch\n",
    "\n",
    "# Specify the path to your saved .pth file\n",
    "model_path = 'model1.pth'\n",
    "\n",
    "# Load the entire model (including architecture and parameters)\n",
    "model = torch.load(model_path)\n",
    "\n",
    "# Ensure the model is in evaluation mode (if it's a trained model)\n",
    "model.eval()\n",
    "\n",
    "# Print the trainable parameters\n",
    "for name, param in model.named_parameters():\n",
    "    if param.requires_grad:\n",
    "        print(name)\n",
    "\n",
    "total_params = sum(p.numel() for p in model.parameters() if p.requires_grad)\n",
    "print(\"Total number of trainable parameters \", total_params,  '\\n')\n"
   ]
  },
  {
   "cell_type": "code",
   "execution_count": 9,
   "metadata": {},
   "outputs": [
    {
     "name": "stdout",
     "output_type": "stream",
     "text": [
      "0.weight\n",
      "0.bias\n",
      "2.weight\n",
      "2.bias\n",
      "4.weight\n",
      "4.bias\n",
      "6.weight\n",
      "6.bias\n",
      "Total number of trainable parameters  3553 \n",
      "\n"
     ]
    }
   ],
   "source": [
    "import torch\n",
    "\n",
    "# Specify the path to your saved .pth file\n",
    "model_path = 'model2.pth'\n",
    "\n",
    "# Load the entire model (including architecture and parameters)\n",
    "model2 = torch.load(model_path)\n",
    "\n",
    "# Ensure the model is in evaluation mode (if it's a trained model)\n",
    "model2.eval()\n",
    "\n",
    "# Print the trainable parameters\n",
    "for name, param in model2.named_parameters():\n",
    "    if param.requires_grad:\n",
    "        print(name)\n",
    "\n",
    "total_params = sum(p.numel() for p in model2.parameters() if p.requires_grad)\n",
    "print(\"Total number of trainable parameters \", total_params,  '\\n')\n"
   ]
  },
  {
   "cell_type": "code",
   "execution_count": 10,
   "metadata": {},
   "outputs": [
    {
     "name": "stdout",
     "output_type": "stream",
     "text": [
      "0.weight\n",
      "0.bias\n",
      "2.weight\n",
      "2.bias\n",
      "Total number of trainable parameters  417 \n",
      "\n"
     ]
    }
   ],
   "source": [
    "import torch\n",
    "\n",
    "# Specify the path to your saved .pth file\n",
    "model_path = 'model1_3000.pth'\n",
    "\n",
    "# Load the entire model (including architecture and parameters)\n",
    "model1_3k = torch.load(model_path)\n",
    "\n",
    "# Ensure the model is in evaluation mode (if it's a trained model)\n",
    "model1_3k.eval()\n",
    "\n",
    "# Print the trainable parameters\n",
    "for name, param in model1_3k.named_parameters():\n",
    "    if param.requires_grad:\n",
    "        print(name)\n",
    "\n",
    "total_params = sum(p.numel() for p in model1_3k.parameters() if p.requires_grad)\n",
    "print(\"Total number of trainable parameters \", total_params,  '\\n')\n"
   ]
  },
  {
   "cell_type": "code",
   "execution_count": 11,
   "metadata": {},
   "outputs": [
    {
     "name": "stdout",
     "output_type": "stream",
     "text": [
      "0.weight\n",
      "0.bias\n",
      "2.weight\n",
      "2.bias\n",
      "4.weight\n",
      "4.bias\n",
      "6.weight\n",
      "6.bias\n",
      "Total number of trainable parameters  3553 \n",
      "\n"
     ]
    }
   ],
   "source": [
    "import torch\n",
    "\n",
    "# Specify the path to your saved .pth file\n",
    "model_path = 'model2_3000.pth'\n",
    "\n",
    "# Load the entire model (including architecture and parameters)\n",
    "model2_3k = torch.load(model_path)\n",
    "\n",
    "# Ensure the model is in evaluation mode (if it's a trained model)\n",
    "model2_3k.eval()\n",
    "\n",
    "# Print the trainable parameters\n",
    "for name, param in model2_3k.named_parameters():\n",
    "    if param.requires_grad:\n",
    "        print(name)\n",
    "\n",
    "total_params = sum(p.numel() for p in model2_3k.parameters() if p.requires_grad)\n",
    "print(\"Total number of trainable parameters \", total_params,  '\\n')\n"
   ]
  },
  {
   "cell_type": "code",
   "execution_count": null,
   "metadata": {},
   "outputs": [],
   "source": []
  },
  {
   "cell_type": "code",
   "execution_count": null,
   "metadata": {},
   "outputs": [],
   "source": []
  }
 ],
 "metadata": {
  "kernelspec": {
   "display_name": "Python 3",
   "language": "python",
   "name": "python3"
  },
  "language_info": {
   "codemirror_mode": {
    "name": "ipython",
    "version": 3
   },
   "file_extension": ".py",
   "mimetype": "text/x-python",
   "name": "python",
   "nbconvert_exporter": "python",
   "pygments_lexer": "ipython3",
   "version": "3.10.11"
  }
 },
 "nbformat": 4,
 "nbformat_minor": 2
}
